{
 "cells": [
  {
   "cell_type": "code",
   "execution_count": null,
   "id": "b4cfe2b1",
   "metadata": {},
   "outputs": [],
   "source": [
    "No name spaces while declaring variable name"
   ]
  },
  {
   "cell_type": "code",
   "execution_count": 1,
   "id": "93646f05",
   "metadata": {},
   "outputs": [
    {
     "ename": "SyntaxError",
     "evalue": "invalid syntax (Temp/ipykernel_1176/2850748843.py, line 1)",
     "output_type": "error",
     "traceback": [
      "\u001b[1;36m  File \u001b[1;32m\"C:\\Users\\SUMALA~1\\AppData\\Local\\Temp/ipykernel_1176/2850748843.py\"\u001b[1;36m, line \u001b[1;32m1\u001b[0m\n\u001b[1;33m    first name = 'suma'\u001b[0m\n\u001b[1;37m          ^\u001b[0m\n\u001b[1;31mSyntaxError\u001b[0m\u001b[1;31m:\u001b[0m invalid syntax\n"
     ]
    }
   ],
   "source": [
    "first name = 'suma'\n",
    "print(first name)"
   ]
  },
  {
   "cell_type": "code",
   "execution_count": 3,
   "id": "277568d2",
   "metadata": {},
   "outputs": [
    {
     "name": "stdout",
     "output_type": "stream",
     "text": [
      "suma\n"
     ]
    }
   ],
   "source": [
    "firstname = 'suma'\n",
    "print(firstname)"
   ]
  },
  {
   "cell_type": "code",
   "execution_count": null,
   "id": "5e96edb4",
   "metadata": {},
   "outputs": [],
   "source": [
    "A variable name should not start with a number"
   ]
  },
  {
   "cell_type": "code",
   "execution_count": 4,
   "id": "653933b0",
   "metadata": {},
   "outputs": [
    {
     "ename": "SyntaxError",
     "evalue": "invalid syntax (Temp/ipykernel_1176/348853196.py, line 1)",
     "output_type": "error",
     "traceback": [
      "\u001b[1;36m  File \u001b[1;32m\"C:\\Users\\SUMALA~1\\AppData\\Local\\Temp/ipykernel_1176/348853196.py\"\u001b[1;36m, line \u001b[1;32m1\u001b[0m\n\u001b[1;33m    1name ='swapna'\u001b[0m\n\u001b[1;37m     ^\u001b[0m\n\u001b[1;31mSyntaxError\u001b[0m\u001b[1;31m:\u001b[0m invalid syntax\n"
     ]
    }
   ],
   "source": [
    "1name ='swapna'\n",
    "print(1name)\n"
   ]
  },
  {
   "cell_type": "code",
   "execution_count": 5,
   "id": "9fb1ced8",
   "metadata": {},
   "outputs": [
    {
     "name": "stdout",
     "output_type": "stream",
     "text": [
      "swapna\n"
     ]
    }
   ],
   "source": [
    "name1 = 'swapna'\n",
    "print(name1)"
   ]
  },
  {
   "cell_type": "code",
   "execution_count": null,
   "id": "78f85465",
   "metadata": {},
   "outputs": [],
   "source": [
    "A variable name should not contain any special characters in it"
   ]
  },
  {
   "cell_type": "code",
   "execution_count": 6,
   "id": "7a07aa5f",
   "metadata": {},
   "outputs": [
    {
     "ename": "SyntaxError",
     "evalue": "invalid syntax (Temp/ipykernel_1176/2545410481.py, line 1)",
     "output_type": "error",
     "traceback": [
      "\u001b[1;36m  File \u001b[1;32m\"C:\\Users\\SUMALA~1\\AppData\\Local\\Temp/ipykernel_1176/2545410481.py\"\u001b[1;36m, line \u001b[1;32m1\u001b[0m\n\u001b[1;33m    name@ = 'johny'\u001b[0m\n\u001b[1;37m          ^\u001b[0m\n\u001b[1;31mSyntaxError\u001b[0m\u001b[1;31m:\u001b[0m invalid syntax\n"
     ]
    }
   ],
   "source": [
    "name@ = 'johny'\n",
    "print(name@)"
   ]
  },
  {
   "cell_type": "code",
   "execution_count": null,
   "id": "af7763e1",
   "metadata": {},
   "outputs": [],
   "source": [
    "#-->used for commenting the lines"
   ]
  },
  {
   "cell_type": "code",
   "execution_count": null,
   "id": "3e108f42",
   "metadata": {},
   "outputs": [],
   "source": [
    "Datatypes:-string,numbers(1.integers,2.floats(decimals)),list,tuple,dictionaries"
   ]
  },
  {
   "cell_type": "code",
   "execution_count": null,
   "id": "3a928a1e",
   "metadata": {},
   "outputs": [],
   "source": [
    "datatypes:-mutable(flexible,edit and alter) and immutable(fixed,cant-edit and alter)"
   ]
  },
  {
   "cell_type": "code",
   "execution_count": null,
   "id": "a5807afb",
   "metadata": {},
   "outputs": [],
   "source": [
    "string--->immutable and declared as a)single quote b)double quotes c)triple quotes"
   ]
  },
  {
   "cell_type": "code",
   "execution_count": null,
   "id": "2ea8a2d5",
   "metadata": {},
   "outputs": [],
   "source": [
    "name = 'suma'\n",
    "     = \"suma\"\n",
    "     = \"\"\"suma \"\"\""
   ]
  },
  {
   "cell_type": "code",
   "execution_count": null,
   "id": "b975a7e4",
   "metadata": {},
   "outputs": [],
   "source": [
    "string methods--->str"
   ]
  },
  {
   "cell_type": "code",
   "execution_count": 7,
   "id": "fb3385fc",
   "metadata": {},
   "outputs": [
    {
     "name": "stdout",
     "output_type": "stream",
     "text": [
      "johny\n"
     ]
    }
   ],
   "source": [
    "full_name = 'johny'\n",
    "print(full_name)"
   ]
  },
  {
   "cell_type": "code",
   "execution_count": 8,
   "id": "4bd4f98c",
   "metadata": {},
   "outputs": [
    {
     "name": "stdout",
     "output_type": "stream",
     "text": [
      "Johny\n"
     ]
    }
   ],
   "source": [
    "print(full_name.title())"
   ]
  },
  {
   "cell_type": "code",
   "execution_count": 9,
   "id": "e4d641a8",
   "metadata": {},
   "outputs": [
    {
     "name": "stdout",
     "output_type": "stream",
     "text": [
      "JOHNY\n"
     ]
    }
   ],
   "source": [
    "print(full_name.upper())"
   ]
  },
  {
   "cell_type": "code",
   "execution_count": 10,
   "id": "f8385f10",
   "metadata": {},
   "outputs": [
    {
     "name": "stdout",
     "output_type": "stream",
     "text": [
      "johny\n"
     ]
    }
   ],
   "source": [
    "print(full_name.lower())"
   ]
  },
  {
   "cell_type": "code",
   "execution_count": null,
   "id": "1e830cb2",
   "metadata": {},
   "outputs": [],
   "source": [
    "introduction to f strings:"
   ]
  },
  {
   "cell_type": "code",
   "execution_count": null,
   "id": "7af2821b",
   "metadata": {},
   "outputs": [],
   "source": [
    "f\"custom words{placeholder1}{placeholder2}---{placeholder n}\""
   ]
  },
  {
   "cell_type": "code",
   "execution_count": 12,
   "id": "efb2a917",
   "metadata": {},
   "outputs": [
    {
     "name": "stdout",
     "output_type": "stream",
     "text": [
      "sumasowmi\n"
     ]
    }
   ],
   "source": [
    "firstname = 'suma'\n",
    "lastname = 'sowmi'\n",
    "fullname = f\"{firstname}{lastname}\"\n",
    "print(fullname)"
   ]
  },
  {
   "cell_type": "code",
   "execution_count": 13,
   "id": "bb7927a2",
   "metadata": {},
   "outputs": [
    {
     "name": "stdout",
     "output_type": "stream",
     "text": [
      "keep up the good work,Sumasowmi\n"
     ]
    }
   ],
   "source": [
    "message = f\"keep up the good work,{fullname.title()}\"\n",
    "print(message)"
   ]
  },
  {
   "cell_type": "code",
   "execution_count": null,
   "id": "de1f747c",
   "metadata": {},
   "outputs": [],
   "source": [
    "#Adding whitespaces to strings:"
   ]
  },
  {
   "cell_type": "code",
   "execution_count": 14,
   "id": "06c7d710",
   "metadata": {},
   "outputs": [
    {
     "name": "stdout",
     "output_type": "stream",
     "text": [
      "favourite_language : pythonc++javaswiftccobal\n"
     ]
    }
   ],
   "source": [
    "print(\"favourite_language : pythonc++javaswiftccobal\")"
   ]
  },
  {
   "cell_type": "code",
   "execution_count": 15,
   "id": "3d5745aa",
   "metadata": {},
   "outputs": [
    {
     "name": "stdout",
     "output_type": "stream",
     "text": [
      "favourite_language :\n",
      "python\n",
      "c++\n",
      "java\n",
      "swift\n",
      "c\n",
      "cobal\n"
     ]
    }
   ],
   "source": [
    "print(\"favourite_language :\\npython\\nc++\\njava\\nswift\\nc\\ncobal\")"
   ]
  },
  {
   "cell_type": "code",
   "execution_count": 16,
   "id": "de8087bd",
   "metadata": {},
   "outputs": [
    {
     "name": "stdout",
     "output_type": "stream",
     "text": [
      "favourite_language :\n",
      "\tpython\n",
      "\tc++\n",
      "\tjava\n",
      "\tswift\n",
      "\tc\n",
      "\tcobal\n"
     ]
    }
   ],
   "source": [
    "print(\"favourite_language :\\n\\tpython\\n\\tc++\\n\\tjava\\n\\tswift\\n\\tc\\n\\tcobal\")"
   ]
  },
  {
   "cell_type": "code",
   "execution_count": null,
   "id": "74c77fd7",
   "metadata": {},
   "outputs": [],
   "source": [
    "#removing whitespaces from strings"
   ]
  },
  {
   "cell_type": "code",
   "execution_count": 17,
   "id": "d96b637a",
   "metadata": {},
   "outputs": [
    {
     "name": "stdout",
     "output_type": "stream",
     "text": [
      "python\n"
     ]
    }
   ],
   "source": [
    "name = 'python'\n",
    "print(name)"
   ]
  },
  {
   "cell_type": "code",
   "execution_count": 19,
   "id": "18c04b14",
   "metadata": {},
   "outputs": [
    {
     "name": "stdout",
     "output_type": "stream",
     "text": [
      "  python\n"
     ]
    }
   ],
   "source": [
    "name = '  python'\n",
    "print(name)"
   ]
  },
  {
   "cell_type": "code",
   "execution_count": 20,
   "id": "216a1ad1",
   "metadata": {},
   "outputs": [
    {
     "name": "stdout",
     "output_type": "stream",
     "text": [
      "python  \n"
     ]
    }
   ],
   "source": [
    "name = 'python  '\n",
    "print(name)"
   ]
  },
  {
   "cell_type": "code",
   "execution_count": null,
   "id": "2736e338",
   "metadata": {},
   "outputs": [],
   "source": [
    "#strip is used"
   ]
  },
  {
   "cell_type": "code",
   "execution_count": 25,
   "id": "c44c5e7d",
   "metadata": {},
   "outputs": [
    {
     "name": "stdout",
     "output_type": "stream",
     "text": [
      "   python\n"
     ]
    }
   ],
   "source": [
    "name = '   python'\n",
    "print(name)"
   ]
  },
  {
   "cell_type": "code",
   "execution_count": 26,
   "id": "b2b33eb1",
   "metadata": {},
   "outputs": [
    {
     "data": {
      "text/plain": [
       "'python'"
      ]
     },
     "execution_count": 26,
     "metadata": {},
     "output_type": "execute_result"
    }
   ],
   "source": [
    "name.lstrip()"
   ]
  },
  {
   "cell_type": "code",
   "execution_count": 27,
   "id": "95561e9c",
   "metadata": {},
   "outputs": [
    {
     "name": "stdout",
     "output_type": "stream",
     "text": [
      "python  \n"
     ]
    }
   ],
   "source": [
    "name = 'python  '\n",
    "print(name)"
   ]
  },
  {
   "cell_type": "code",
   "execution_count": 28,
   "id": "cfd68a43",
   "metadata": {},
   "outputs": [
    {
     "data": {
      "text/plain": [
       "'python'"
      ]
     },
     "execution_count": 28,
     "metadata": {},
     "output_type": "execute_result"
    }
   ],
   "source": [
    "name.rstrip()"
   ]
  },
  {
   "cell_type": "code",
   "execution_count": 29,
   "id": "89d809e9",
   "metadata": {},
   "outputs": [
    {
     "data": {
      "text/plain": [
       "'python'"
      ]
     },
     "execution_count": 29,
     "metadata": {},
     "output_type": "execute_result"
    }
   ],
   "source": [
    "name = '  python  '\n",
    "name.strip()"
   ]
  },
  {
   "cell_type": "code",
   "execution_count": null,
   "id": "2b63f199",
   "metadata": {},
   "outputs": [],
   "source": []
  },
  {
   "cell_type": "code",
   "execution_count": null,
   "id": "74a53f69",
   "metadata": {},
   "outputs": [],
   "source": []
  },
  {
   "cell_type": "code",
   "execution_count": null,
   "id": "97cea629",
   "metadata": {},
   "outputs": [],
   "source": []
  },
  {
   "cell_type": "code",
   "execution_count": null,
   "id": "fee0429a",
   "metadata": {},
   "outputs": [],
   "source": []
  }
 ],
 "metadata": {
  "kernelspec": {
   "display_name": "Python 3 (ipykernel)",
   "language": "python",
   "name": "python3"
  },
  "language_info": {
   "codemirror_mode": {
    "name": "ipython",
    "version": 3
   },
   "file_extension": ".py",
   "mimetype": "text/x-python",
   "name": "python",
   "nbconvert_exporter": "python",
   "pygments_lexer": "ipython3",
   "version": "3.9.7"
  }
 },
 "nbformat": 4,
 "nbformat_minor": 5
}
